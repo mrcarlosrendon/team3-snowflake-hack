{
 "cells": [
  {
   "cell_type": "code",
   "execution_count": null,
   "id": "3775908f-ca36-4846-8f38-5adca39217f2",
   "metadata": {
    "language": "python",
    "name": "import_libraries"
   },
   "outputs": [],
   "source": [
    "# Import python packages\n",
    "import streamlit as st\n",
    "import pandas as pd\n",
    "from snowflake.snowpark.functions import *\n",
    "from snowflake.snowpark.types import *\n",
    "# We can also use Snowpark for our analyses!\n",
    "from snowflake.snowpark.context import get_active_session\n",
    "session = get_active_session()\n"
   ]
  },
  {
   "cell_type": "markdown",
   "id": "89d01189-cc24-46ca-a9ad-fde251ef53f3",
   "metadata": {
    "collapsed": false,
    "name": "Calling_Flood_API"
   },
   "source": [
    "# Calling an API to load Location Data\n",
    "Snowflake allows users to securely create useful integrations to any rest api.  This example calls the **uk environmental agency apis** to retrieve the following:\n",
    "\n",
    "-   location based flood areas along with their polygons \n",
    "-   Latest Flood Alerts\n",
    "-   Water levels\n",
    "\n",
    "All of which can be loaded into Snowflake using custom made functions. We will next explore how this works.\n",
    "\n",
    "## Step 1 - Create a Network Rule\n",
    "You will first need to create a newtwork rule to allow communication outside of snowflake - in this case, we are allowing the **Egress** of data from the environment agency to be loaded."
   ]
  },
  {
   "cell_type": "code",
   "execution_count": null,
   "id": "e4dea2fe-55ec-4c70-aba9-d4e1ee2058ed",
   "metadata": {
    "language": "sql",
    "name": "ENVIRONMENTAL_AGENCY_NETWORK_RULE"
   },
   "outputs": [],
   "source": [
    "CREATE OR REPLACE NETWORK RULE ENVIRONMENTAL_AGENCY\n",
    "MODE = EGRESS\n",
    "TYPE = HOST_PORT\n",
    "VALUE_LIST = ('environment.data.gov.uk:443');"
   ]
  },
  {
   "cell_type": "markdown",
   "id": "6a6667c2-6792-4760-bb95-14b10c4754c5",
   "metadata": {
    "collapsed": false,
    "name": "h_external_integration"
   },
   "source": [
    "## Step 2 - Create an External Integraion\n",
    "Next, let's create an external integration we will use this integtation in any function that is created to load the data.  You can have multiple network rules for each integration.  This is useful if a function is collecting data from multiple sources."
   ]
  },
  {
   "cell_type": "code",
   "execution_count": null,
   "id": "c1616bad-f688-444f-b76d-a7b7ab0e72bf",
   "metadata": {
    "language": "sql",
    "name": "EXTERNAL_ACCESS_INTEGRATION"
   },
   "outputs": [],
   "source": [
    "CREATE OR REPLACE EXTERNAL ACCESS INTEGRATION ENV_INTEGRATION\n",
    "ALLOWED_NETWORK_RULES = (ENVIRONMENTAL_AGENCY)\n",
    "ENABLED=TRUE;"
   ]
  },
  {
   "cell_type": "markdown",
   "id": "f52d2f09-3721-40c6-abbd-e238a2e99944",
   "metadata": {
    "collapsed": false,
    "name": "f1_flood_warnings"
   },
   "source": [
    "## Step 3 - Create Functions\n",
    "Now we will create a function which will be used to load data.\n",
    "\n",
    "### Function 1 - Current Flood Warnings\n",
    "Th current flood warnings gives information on any recent alerts. \n",
    "\n",
    "**NB** This will only populate if flood workings currently exist.  In the summer months, this function might retrive zero results."
   ]
  },
  {
   "cell_type": "code",
   "execution_count": null,
   "id": "fd00d262-c19d-47eb-8ed2-4ae26e80a08d",
   "metadata": {
    "language": "sql",
    "name": "FUNCTION_TO_LOAD_FLOODS"
   },
   "outputs": [],
   "source": [
    "CREATE OR REPLACE FUNCTION DEFAULT_SCHEMA.FLOODS()\n",
    "RETURNS variant\n",
    "LANGUAGE PYTHON\n",
    "RUNTIME_VERSION = 3.8\n",
    "HANDLER = 'get_data'\n",
    "EXTERNAL_ACCESS_INTEGRATIONS = (ENV_INTEGRATION)\n",
    "PACKAGES = ('requests', 'pandas')\n",
    "AS\n",
    "$$\n",
    "import _snowflake\n",
    "import requests\n",
    "import json\n",
    "session = requests.Session()\n",
    "\n",
    "def get_data():\n",
    "    page = session.get(f'''https://environment.data.gov.uk/flood-monitoring/id/floods''')\n",
    "    return page.json()\n",
    "$$;"
   ]
  },
  {
   "cell_type": "markdown",
   "id": "5a9bde36-6815-4d73-a096-103d31776649",
   "metadata": {
    "collapsed": false,
    "name": "load_flood_data_h"
   },
   "source": [
    "### Run the Flood warnings function\n",
    "This function below loads all data into one field.  The example then uses **lateral flatten** to extract the data into multiple rows.  You will see that each flood warning is linked to a flood area **notation** code.  Flood areas along with their polygons are loaded from two seperate api's"
   ]
  },
  {
   "cell_type": "code",
   "execution_count": null,
   "id": "604fd748-7186-4084-a865-5d955127be86",
   "metadata": {
    "language": "sql",
    "name": "latest_flood_risk"
   },
   "outputs": [],
   "source": [
    "select \n",
    "VALUE,\n",
    "VALUE:\"@id\"::TEXT ID,\n",
    "VALUE:description::TEXT DESCRIPTION,\n",
    "VALUE:eaAreaName::TEXT AREA_NAME,\n",
    "VALUE:eaRegionName::TEXT REGION_NAME,\n",
    "VALUE:floodArea:\"@id\"::TEXT \"Flood Area: ID\",\n",
    "VALUE:floodArea:\"county\"::TEXT \"Flood Area: county\",\n",
    "VALUE:floodArea:\"notation\"::TEXT \"Flood Area: notation\",\n",
    "VALUE:floodArea:\"polygon\"::TEXT \"Flood Area: polygon\",\n",
    "VALUE:floodArea:\"riverOrSea\"::TEXT \"Flood Area: River or Sea\",\n",
    "VALUE:floodAreaID ::TEXT \"Flood Area ID\",\n",
    "VALUE:isTidal \"is Tidal\",\n",
    "VALUE:message::TEXT \"Message\",\n",
    "VALUE:severity::TEXT \"severity\",\n",
    "VALUE:severityLevel \"Severity Level\",\n",
    "VALUE:timeMessageChanged::DATETIME \"Time Message Changed\",\n",
    "VALUE:timeRaised::DATETIME \"Time Raised\",\n",
    "VALUE:timeSeverityChanged::DATETIME \"Time Severity Changed\"\n",
    "from \n",
    "\n",
    "(select DEFAULT_SCHEMA.floods() V), LATERAL FLATTEN (V:items);"
   ]
  },
  {
   "cell_type": "markdown",
   "id": "0364f38b-d534-4bf3-bcb9-ee3c2c4807ba",
   "metadata": {
    "collapsed": false,
    "name": "h_f2_flood_areas"
   },
   "source": [
    "### Function 2 - Flood Areas\n",
    "This function loads the flood areas.  There are api limits in each call, which is why this function limits the areas to 'X' rows.  There are also the capabilities to filter using other methods."
   ]
  },
  {
   "cell_type": "code",
   "execution_count": null,
   "id": "40c41792-fd0e-4d23-84b4-aeeb6f09141f",
   "metadata": {
    "codeCollapsed": false,
    "collapsed": false,
    "language": "sql",
    "name": "FLOOD_AREAS"
   },
   "outputs": [],
   "source": [
    "CREATE OR REPLACE FUNCTION DEFAULT_SCHEMA.FLOOD_AREAS(limit int)\n",
    "RETURNS variant\n",
    "LANGUAGE PYTHON\n",
    "RUNTIME_VERSION = 3.8\n",
    "HANDLER = 'get_data'\n",
    "EXTERNAL_ACCESS_INTEGRATIONS = (ENV_INTEGRATION)\n",
    "PACKAGES = ('requests', 'pandas')\n",
    "AS\n",
    "$$\n",
    "import _snowflake\n",
    "import requests\n",
    "import json\n",
    "session = requests.Session()\n",
    "\n",
    "def get_data(limit):\n",
    "    page = session.get(f'''https://environment.data.gov.uk/flood-monitoring/id/floodAreas?_limit={limit}''')\n",
    "    return page.json()\n",
    "$$;"
   ]
  },
  {
   "cell_type": "markdown",
   "id": "362ffd2e-2a3d-460b-92d6-57e433976d8d",
   "metadata": {
    "collapsed": false,
    "name": "h_flood_polygon"
   },
   "source": [
    "### Function 3 - Flood Polygon\n",
    "This function loads polygons for all the flood areas - you will note that this function has a parameter - it needs to know the area number before it can load the data.\n",
    "\n",
    "The payload will return a **features** object.  Within each features object contains a **properties** object and a **geometry** object."
   ]
  },
  {
   "cell_type": "code",
   "execution_count": null,
   "id": "43beda69-9d5e-44fe-aff1-f37f9e9e98c3",
   "metadata": {
    "language": "sql",
    "name": "polygon_flood_area"
   },
   "outputs": [],
   "source": [
    "CREATE OR REPLACE FUNCTION DEFAULT_SCHEMA.FLOOD_POLYGON(notation text)\n",
    "RETURNS variant\n",
    "LANGUAGE PYTHON\n",
    "RUNTIME_VERSION = 3.8\n",
    "HANDLER = 'get_data'\n",
    "EXTERNAL_ACCESS_INTEGRATIONS = (ENV_INTEGRATION)\n",
    "PACKAGES = ('requests', 'pandas')\n",
    "AS\n",
    "$$\n",
    "import _snowflake\n",
    "import requests\n",
    "import json\n",
    "session = requests.Session()\n",
    "\n",
    "def get_data(notation):\n",
    "    page = session.get(f'''https://environment.data.gov.uk/flood-monitoring/id/floodAreas/{notation}/polygon''')\n",
    "    return page.json()\n",
    "$$;\n",
    "\n",
    "SELECT DEFAULT_SCHEMA.FLOOD_POLYGON('112WAFTUBA')"
   ]
  },
  {
   "cell_type": "markdown",
   "id": "50e5d9fd-4b58-45d6-95b6-95135000e9b4",
   "metadata": {
    "collapsed": false,
    "name": "handle_visualising_flood_polygons"
   },
   "source": [
    "### The Geometry Object - Handling the **MultiPolygon** data type\n",
    "\n",
    "In the first section of this lab **Analyse Location Data in Snowflake**, you explored how to render polygons in the **pydeck** python tool.  You will also do the same here.\n",
    "\n",
    "The snowflake custom function you have just created returns a multi polygon within the **geometry** object.  To use pydeck for this, we need put all the polygons on 1 level (no nested polygons), but produce multiple rows for each shape. \n",
    "\n",
    "Below is a python function which uses **Snowpark Dataframes** to convert all multi polygons into single polygons which will be split into multiple rows."
   ]
  },
  {
   "cell_type": "code",
   "execution_count": null,
   "id": "4f090996-8c5a-4e81-a4e5-1bac8d9bfe81",
   "metadata": {
    "language": "python",
    "name": "multipolygon"
   },
   "outputs": [],
   "source": [
    "def polygon(data):\n",
    "    # create a new data frame filter the dataframe where the type in each geography field contains the word 'Polygon'\n",
    "    dataP = data.filter(call_function('ST_ASGEOJSON',col('GEOGRAPHY'))['type'].astype(StringType())=='Polygon')\n",
    "    # create a new dataframe and Filter the dataframe where the type in each geography field contains the word 'Multi Polygon'\n",
    "    dataM = data.filter(call_function('ST_ASGEOJSON',col('GEOGRAPHY'))['type'].astype(StringType())=='MultiPolygon')\n",
    "\n",
    "    ## use the join table function to flatten the multi polygon into one row per polygon\n",
    "    dataM = dataM.join_table_function('flatten',\n",
    "                                        call_function('ST_ASGEOJSON',\n",
    "                                        col('GEOGRAPHY'))['coordinates']).drop('SEQ',\n",
    "                                                                               'KEY',\n",
    "                                                                               'PATH',\n",
    "                                                                               'INDEX',\n",
    "                                                                               'THIS')                                                                                                        \n",
    "    \n",
    "    ## With the flattend results, create a new valid geography object with the type 'Polygon'\n",
    "    dataM = dataM.with_column('GEOGRAPHY',\n",
    "                                to_geography(object_construct(lit('coordinates'),\n",
    "                                                        to_array('VALUE'),\n",
    "                                                        lit('type'),\n",
    "                                                        lit('Polygon')))).drop('VALUE')\n",
    "\n",
    "    ### return both the converted polygons (dataM) as well as the already single polygons (dataP) into one dataframe\n",
    "\n",
    "    return dataM.union(dataP).with_column_renamed('GEOGRAPHY','POLYGON')\n",
    "\n"
   ]
  },
  {
   "cell_type": "markdown",
   "id": "3ba07366-6879-4a6e-bd36-d667e085e778",
   "metadata": {
    "collapsed": false,
    "name": "h_example_properties"
   },
   "source": [
    "### The Properties Object - Extracting Properties of the Flood Area\n",
    "\n",
    "Just for information, below is an example of what properties are returned in the polygon.  You will note in the object, attributes such a area, description and river_sea are returned.\n",
    "     \n",
    "     \"properties\": {\n",
    "        \"AREA\": \"Wessex\",\n",
    "        \"DESCRIP\": \"Upper River Avon and tributaries including Malmesbury, Dauntsey, Chippenham and Calne\",\n",
    "        \"FWS_TACODE\": \"112WAFTUBA\",\n",
    "        \"LA_NAME\": \"Gloucestershire, South Gloucestershire, Wiltshire\",\n",
    "        \"QDIAL\": \"210013\",\n",
    "        \"RIVER_SEA\": \"Bristol River Avon\",\n",
    "        \"TA_NAME\": \"Upper Bristol Avon area\"\n",
    "      },\n",
    "      \"type\": \"Feature\""
   ]
  },
  {
   "cell_type": "markdown",
   "id": "74f77ec9-ccfe-4bf9-9c84-41df0f0ddce0",
   "metadata": {
    "collapsed": false,
    "name": "h_toltip"
   },
   "source": [
    "Here is an example tooltip to pickup key attributes from the properties payload.  This tooltip will be used in **Pydeck**"
   ]
  },
  {
   "cell_type": "code",
   "execution_count": null,
   "id": "debbf340-3a3d-4215-93d6-e98fa2c51528",
   "metadata": {
    "language": "python",
    "name": "tooltip_polygon"
   },
   "outputs": [],
   "source": [
    "tooltip = {\n",
    "   \"html\": \"\"\"<b>Name:</b> {TA_NAME} <br> <b>Area:</b> {AREA} <br> <b>Description:</b> {DESCRIP} \n",
    "   <br> <b>QDIAL:</b> {DESCRIP}\n",
    "   <br> <b>River Sea:</b> {RIVER_SEA}\n",
    "   <br> <b>Local Authority Names:</b> {LA_NAME}\"\"\",\n",
    "   \"style\": {\n",
    "       \"width\":\"50%\",\n",
    "        \"backgroundColor\": \"steelblue\",\n",
    "        \"color\": \"white\",\n",
    "       \"text-wrap\": \"balance\"\n",
    "   }\n",
    "}"
   ]
  },
  {
   "cell_type": "markdown",
   "id": "b886bf34-82fb-4205-a465-365ac30cd7c6",
   "metadata": {
    "collapsed": false,
    "name": "heading_rendering_flood_areas"
   },
   "source": [
    "### Rendering Flood Areas with Polygons in Pydeck\n",
    "\n",
    "Here is a view of one set of polygons returned for a specific flood area.  This calls two APIs then visualises the results in pydeck.  You will notice that the tool tips are the same for each polygon.  This is because the **properties** are at **MultPolygon** level."
   ]
  },
  {
   "cell_type": "code",
   "execution_count": null,
   "id": "853218b7-0845-42ee-82cd-b1149df29e86",
   "metadata": {
    "codeCollapsed": true,
    "collapsed": false,
    "language": "python",
    "name": "create_polygon_from_multi"
   },
   "outputs": [],
   "source": [
    "import pydeck as pdk\n",
    "import json\n",
    "\n",
    "data = session.sql(''' SELECT DEFAULT_SCHEMA.FLOOD_POLYGON('112WAFTUBA') GEO ''')\n",
    "data = data.with_column('TA_NAME',col('GEO')['features'][0]['properties']['TA_NAME'].astype(StringType()))\n",
    "data = data.with_column('AREA',col('GEO')['features'][0]['properties']['AREA'].astype(StringType()))\n",
    "data = data.with_column('DESCRIP',col('GEO')['features'][0]['properties']['DESCRIP'].astype(StringType()))\n",
    "data = data.with_column('RIVER_SEA',col('GEO')['features'][0]['properties']['RIVER_SEA'].astype(StringType()))\n",
    "data = data.with_column('QDIAL',col('GEO')['features'][0]['properties']['QDIAL'].astype(StringType()))\n",
    "data = data.with_column('LA_NAME',col('GEO')['features'][0]['properties']['LA_NAME'].astype(StringType()))\n",
    "data = data.with_column('GEOGRAPHY',to_geography(col('GEO')['features'][0]['geometry'])).drop('GEO')\n",
    "\n",
    "\n",
    "\n",
    "\n",
    "\n",
    "\n",
    "data = polygon(data)\n",
    "\n",
    "center = data.select(call_function('ST_UNION_AGG',col('POLYGON')).alias('CENTROID'))\n",
    "center = center.select(call_function('ST_CENTROID',col('CENTROID')).alias('CENTROID'))\n",
    "center = center.with_column('LAT',call_function('ST_Y',col('CENTROID')).astype(FloatType()))\n",
    "center = center.with_column('LON',call_function('ST_X',col('CENTROID')).astype(FloatType()))\n",
    "\n",
    "LAT = center.select('LAT').to_pandas().LAT.iloc[0]\n",
    "LON = center.select('LON').to_pandas().LON.iloc[0]\n",
    "\n",
    "#st.write(LAT)\n",
    "\n",
    "#st.write(LON)\n",
    "\n",
    "datapd = data.to_pandas()\n",
    "datapd[\"POLYGON\"] = datapd[\"POLYGON\"].apply(lambda row: json.loads(row)[\"coordinates\"])\n",
    "#st.write(datapd.head())\n",
    "\n",
    "# Create data layer for each polygon\n",
    "data_layer = pdk.Layer(\n",
    "    \"PolygonLayer\",\n",
    "    datapd,\n",
    "    opacity=0.3,\n",
    "    get_polygon=\"POLYGON\", \n",
    "    filled=True,\n",
    "    get_fill_color=[41, 181, 232],\n",
    "    get_line_color=[0, 0, 0],\n",
    "    auto_highlight=True,\n",
    "    pickable=True,\n",
    ")\n",
    "\n",
    "# Set the view on the map\n",
    "view_state = pdk.ViewState(\n",
    "    longitude=LON,\n",
    "    latitude=LAT,\n",
    "    zoom=13,  # Adjust zoom if needed\n",
    "    pitch=0,\n",
    ")\n",
    "\n",
    "\n",
    "\n",
    "# Render the map with layer and tooltip\n",
    "r = pdk.Deck(\n",
    "    layers=[data_layer],\n",
    "    initial_view_state=view_state,\n",
    "    map_style=None,\n",
    "    tooltip=tooltip)\n",
    "    \n",
    "st.pydeck_chart(r, use_container_width=True)"
   ]
  },
  {
   "cell_type": "markdown",
   "id": "e4a7c13b-2247-4dca-953a-fc56dcfa5d98",
   "metadata": {
    "collapsed": false,
    "name": "LOAD_ALL_POLYGONS"
   },
   "source": [
    "### Load all polygons in a persisted table \n",
    "\n",
    "The next function calls the **FLOOD_POLYGON**  over and over for each flood area.  The flood area API is called once to get all the notation codes - this is to get the polygon for every area.  This might take some time to run as its calling the api several times.  It may take 10 minutes to load.  Changing the warehouse will not improve spead in this function as it's the api calls which take the majority of time."
   ]
  },
  {
   "cell_type": "code",
   "execution_count": null,
   "id": "ab423686-a9fc-486a-903b-09a55af64096",
   "metadata": {
    "language": "sql",
    "name": "loading_all_polygons"
   },
   "outputs": [],
   "source": [
    "CREATE OR REPLACE TABLE DEFAULT_SCHEMA.FLOOD_AREAS_WITH_POLYGONS AS\n",
    "\n",
    "with areas as (\n",
    "SELECT\n",
    "\n",
    "VALUE,\n",
    "VALUE:description::TEXT \"Description\",\n",
    "VALUE:eaAreaName::TEXT \"eaAreaName\",\n",
    "VALUE:fwdCode::Text \"fwdCode\",\n",
    "VALUE:label::Text \"label\",\n",
    "VALUE:lat::FLOAT LAT,\n",
    "VALUE:long::FLOAT LON,\n",
    "VALUE:notation::Text \"notation\", \n",
    "VALUE:polygon::Text POLYGON,\n",
    "VALUE:riverOrSea::Text \"River or Sea\"\n",
    "FROM (select DEFAULT_SCHEMA.flood_areas(5000) V), LATERAL FLATTEN (V:items)\n",
    ")\n",
    "\n",
    "select * exclude POLYGON\n",
    "\n",
    ",TO_GEOGRAPHY(DEFAULT_SCHEMA.FLOOD_POLYGON(\"notation\"):features[0]:geometry,1) GEOM\n",
    "from areas\n",
    "\n",
    ";\n"
   ]
  },
  {
   "cell_type": "markdown",
   "id": "75554f0c-7b13-4cb9-bbaa-7ed1d4489d7a",
   "metadata": {
    "collapsed": false,
    "name": "h_search_optimisation_geo"
   },
   "source": [
    "### Add Search Optimisation on GEO\n",
    "\n",
    "We want the capability to use fast spatial joins on this dataset.  This is why **Search Optimisation** is switched on the **GEO** column"
   ]
  },
  {
   "cell_type": "code",
   "execution_count": null,
   "id": "13e4856f-25e8-4849-b6be-649eb78b0b35",
   "metadata": {
    "language": "sql",
    "name": "add_search_optimisation"
   },
   "outputs": [],
   "source": [
    "ALTER TABLE DEFAULT_SCHEMA.FLOOD_AREAS_WITH_POLYGONS ADD SEARCH OPTIMIZATION ON GEO(GEOM);"
   ]
  },
  {
   "cell_type": "markdown",
   "id": "91dbf596-71fd-44af-a218-1c13e1f47266",
   "metadata": {
    "collapsed": false,
    "name": "head_visualise_all_areas"
   },
   "source": [
    "### Visualising All flood Areas with a filter\n",
    "Here, you can now visualise the flood areas for each flood area.  **NB**. The code uses **ST_ISVALID** to filter out any areas that do not have valid polygons."
   ]
  },
  {
   "cell_type": "code",
   "execution_count": null,
   "id": "abacca51-e15b-4b52-b1f0-96b0ff2c9e4a",
   "metadata": {
    "codeCollapsed": true,
    "collapsed": false,
    "language": "python",
    "name": "select_from_all_areas"
   },
   "outputs": [],
   "source": [
    "import pydeck as pdk\n",
    "import json\n",
    "\n",
    "data = session.table('DEFAULT_SCHEMA.FLOOD_AREAS_WITH_POLYGONS').drop('VALUE')\n",
    "data = data.filter(call_function('ST_ISVALID',col('GEOM'))==1)\n",
    "LABELS = data.select(col('\"label\"')).distinct().to_pandas()\n",
    "selected_label = st.selectbox('Select Area:',LABELS)\n",
    "data = data.filter(col('\"label\"')==selected_label)\n",
    "data = data.with_column('AREA',col('\"eaAreaName\"'))\n",
    "data = data.with_column('DESCRIP',col('\"Description\"'))\n",
    "data = data.with_column('RIVER_SEA',col('\"River or Sea\"'))\n",
    "data = data.with_column('fwdCode',col('\"fwdCode\"'))\n",
    "data = data.with_column('NOTATION',col('\"notation\"'))\n",
    "\n",
    "data = data.with_column('LAT',col('LAT'))\n",
    "data = data.with_column('LON',col('LON'))\n",
    "data = data.with_column('GEOGRAPHY',col('GEOM'))\n",
    "\n",
    "\n",
    "\n",
    "data = polygon(data)\n",
    "\n",
    "center = data.select('LAT','LON')\n",
    "\n",
    "LAT = center.select('LAT').to_pandas().LAT.iloc[0]\n",
    "LON = center.select('LON').to_pandas().LON.iloc[0]\n",
    "\n",
    "st.write(LAT)\n",
    "\n",
    "st.write(LON)\n",
    "\n",
    "datapd = data.to_pandas()\n",
    "datapd[\"POLYGON\"] = datapd[\"POLYGON\"].apply(lambda row: json.loads(row)[\"coordinates\"])\n",
    "st.write(datapd.head())\n",
    "\n",
    "# Create data layer for each polygon\n",
    "data_layer = pdk.Layer(\n",
    "    \"PolygonLayer\",\n",
    "    datapd,\n",
    "    opacity=0.3,\n",
    "    get_polygon=\"POLYGON\", \n",
    "    filled=True,\n",
    "    get_fill_color=[41, 181, 232],\n",
    "    get_line_color=[0, 0, 0],\n",
    "    auto_highlight=True,\n",
    "    pickable=False,\n",
    ")\n",
    "\n",
    "# Set the view on the map\n",
    "view_state = pdk.ViewState(\n",
    "    longitude=LON,\n",
    "    latitude=LAT,\n",
    "    zoom=13,  # Adjust zoom if needed\n",
    "    pitch=0,\n",
    ")\n",
    "\n",
    "\n",
    "\n",
    "# Render the map with layer and tooltip\n",
    "r = pdk.Deck(\n",
    "    layers=[data_layer],\n",
    "    initial_view_state=view_state,\n",
    "    map_style=None\n",
    "    )\n",
    "    \n",
    "st.pydeck_chart(r, use_container_width=True)"
   ]
  },
  {
   "cell_type": "markdown",
   "id": "64d9cfd8-ff88-4b1c-92e1-c658fd07be9a",
   "metadata": {
    "collapsed": false,
    "name": "heading_mulitple_areas"
   },
   "source": [
    "Lets now join the flood areas with the previously created **Buildings** dataset.  Effectively what we will do is filter the buildings so they will only appear if they are inside a flood area."
   ]
  },
  {
   "cell_type": "code",
   "execution_count": null,
   "id": "854642d0-a95c-4ff9-bb3c-43d3a7ff5960",
   "metadata": {
    "language": "sql",
    "name": "table_buildings_in_flood_areas"
   },
   "outputs": [],
   "source": [
    "CREATE OR REPLACE TABLE DEFAULT_SCHEMA.BUILDINGS_IN_FLOOD_AREAS AS \n",
    "\n",
    "select A.*, B.\"label\",B.\"River or Sea\",B.\"Description\",B.LAT,B.LON from DATAOPS_EVENT_PROD.DEFAULT_SCHEMA.BUILDINGS_WITH_ROOF_SPECS A\n",
    "\n",
    "INNER JOIN \n",
    "\n",
    "DEFAULT_SCHEMA.FLOOD_AREAS_WITH_POLYGONS B ON\n",
    "\n",
    "\n",
    "ST_INTERSECTS(A.GEOGRAPHY,B.GEOM)"
   ]
  },
  {
   "cell_type": "markdown",
   "id": "92807a0c-779d-4d26-af9f-fa60d45ba66c",
   "metadata": {
    "collapsed": false,
    "name": "h_visualise_flood_area"
   },
   "source": [
    " Let's now visualise the buildings in the **Flood Area**"
   ]
  },
  {
   "cell_type": "code",
   "execution_count": null,
   "id": "b2da85b4-59fd-4c2a-8a9a-a4963e821076",
   "metadata": {
    "codeCollapsed": true,
    "collapsed": false,
    "language": "python",
    "name": "buildings_by_floods"
   },
   "outputs": [],
   "source": [
    "\n",
    "tooltip = {\n",
    "   \"html\": \"\"\" \n",
    "   <br> <b>Theme:</b> {THEME} \n",
    "   <br> <b>Description:</b> {DESCRIPTION}\n",
    "   <br> <b>Roof Material:</b> {ROOFMATERIAL_PRIMARYMATERIAL}\n",
    "   <br> <b>Solar Panel Presence:</b> {ROOFMATERIAL_SOLARPANELPRESENCE}\n",
    "   <br> <b>Roof Shape:</b> {ROOFSHAPEASPECT_SHAPE}\n",
    "   <br> <b>Geometry Area M2:</b> {GEOMETRY_AREA_M2}\n",
    "   \n",
    "   \"\"\",\n",
    "   \"style\": {\n",
    "       \"width\":\"50%\",\n",
    "        \"backgroundColor\": \"steelblue\",\n",
    "        \"color\": \"white\",\n",
    "       \"text-wrap\": \"balance\"\n",
    "   }\n",
    "}\n",
    "\n",
    "\n",
    "# Populate dataframe from query\n",
    "\n",
    "data = session.table('DEFAULT_SCHEMA.BUILDINGS_IN_FLOOD_AREAS')\n",
    "\n",
    "LABELS = data.select(col('\"label\"')).distinct().to_pandas()\n",
    "selected_label = st.selectbox('Select Area:',LABELS)\n",
    "\n",
    "data = data.filter(col('\"label\"')==selected_label)\n",
    "#st.write(data.limit(1))\n",
    "LAT = data.select('LAT').to_pandas().LAT.iloc[0]\n",
    "LON = data.select('LON').to_pandas().LON.iloc[0]\n",
    "\n",
    "\n",
    "datapd = data.select('GEOGRAPHY',\n",
    "                     'THEME',\n",
    "                     'DESCRIPTION',\n",
    "                     'ROOFMATERIAL_PRIMARYMATERIAL',\n",
    "                     'ROOFMATERIAL_SOLARPANELPRESENCE',\n",
    "                    'ROOFSHAPEASPECT_SHAPE',\n",
    "                    'GEOMETRY_AREA_M2').to_pandas()\n",
    "st.write(datapd.head(2))\n",
    "datapd[\"GEOGRAPHY\"] = datapd[\"GEOGRAPHY\"].apply(lambda row: json.loads(row)[\"coordinates\"])\n",
    "\n",
    "st.write('Buildings in a town')\n",
    "\n",
    "# Create data layer - this where the geometry is likely failing - column is now called geometry to match geopandas default\n",
    "data_layer = pdk.Layer(\n",
    "    \"PolygonLayer\",\n",
    "    datapd,\n",
    "    opacity=0.8,\n",
    "    get_polygon=\"GEOGRAPHY\", \n",
    "    filled=True,\n",
    "    get_fill_color=[41, 181, 232],\n",
    "    get_line_color=[0, 0, 0],\n",
    "    get_line_width=0.1,\n",
    "    auto_highlight=True,\n",
    "    pickable=True,\n",
    ")\n",
    "\n",
    "# Set the view on the map\n",
    "view_state = pdk.ViewState(\n",
    "    longitude=LON,\n",
    "    latitude=LAT,\n",
    "    zoom=15,  # Adjust zoom if needed\n",
    "    pitch=0,\n",
    ")\n",
    "\n",
    "\n",
    "\n",
    "# Render the map with layer and tooltip\n",
    "r = pdk.Deck(\n",
    "    layers=[data_layer],\n",
    "    initial_view_state=view_state,\n",
    "    map_style=None,\n",
    "    tooltip=tooltip)\n",
    "    \n",
    "st.pydeck_chart(r, use_container_width=True)"
   ]
  },
  {
   "cell_type": "markdown",
   "id": "ecdc7c8c-877e-46ba-b272-8d4721cbb4a3",
   "metadata": {
    "collapsed": false,
    "name": "h_flood_warning_areas"
   },
   "source": [
    "### Only retrieve Flood Areas with Flood Warnings\n",
    "\n",
    "Here we will call the flood warnings api again, but the results of this will filter the recently loaded flood area with polygons table.  This table also omits polygons which are **not valid**."
   ]
  },
  {
   "cell_type": "code",
   "execution_count": null,
   "id": "2646b961-4bec-4708-9ca6-8a9814cbec29",
   "metadata": {
    "language": "sql",
    "name": "only_retrieve_flood_warnings"
   },
   "outputs": [],
   "source": [
    "CREATE OR REPLACE TABLE DEFAULT_SCHEMA.LATEST_FLOOD_WARNINGS AS \n",
    "\n",
    "SELECT \n",
    "TO_GEOGRAPHY(A.GEOM,1) GEOGRAPHY,\n",
    "ST_ISVALID(GEOGRAPHY) VALID,\n",
    "A.\"River or Sea\",\n",
    "A.LAT,\n",
    "A.LON,\n",
    "B.* FROM DATAOPS_EVENT_PROD.DEFAULT_SCHEMA.FLOOD_AREAS_WITH_POLYGONS A \n",
    "\n",
    "INNER JOIN \n",
    "\n",
    "(\n",
    "select \n",
    "VALUE:\"@id\"::TEXT ID,\n",
    "VALUE:description::TEXT DESCRIPTION,\n",
    "VALUE:eaAreaName::TEXT AREA_NAME,\n",
    "VALUE:eaRegionName::TEXT REGION_NAME,\n",
    "VALUE:floodArea:\"@id\"::TEXT \"Flood Area: ID\",\n",
    "VALUE:floodArea:\"county\"::TEXT \"Flood Area: county\",\n",
    "VALUE:floodArea:\"notation\"::TEXT \"notation\",\n",
    "VALUE:floodArea:\"polygon\"::TEXT \"Flood Area: polygon\",\n",
    "VALUE:floodArea:\"riverOrSea\"::TEXT \"Flood Area: River or Sea\",\n",
    "VALUE:floodAreaID ::TEXT \"Flood Area ID\",\n",
    "VALUE:isTidal \"is Tidal\",\n",
    "VALUE:message::TEXT \"Message\",\n",
    "VALUE:severity::TEXT \"severity\",\n",
    "VALUE:severityLevel \"Severity Level\",\n",
    "VALUE:timeMessageChanged::DATETIME \"Time Message Changed\",\n",
    "VALUE:timeRaised::DATETIME \"Time Raised\",\n",
    "VALUE:timeSeverityChanged::DATETIME \"Time Severity Changed\"\n",
    "from \n",
    "\n",
    "(select DEFAULT_SCHEMA.floods() V), LATERAL FLATTEN (V:items)) B\n",
    "\n",
    "ON\n",
    "\n",
    "A.\"notation\" = B.\"notation\"\n",
    ";\n",
    "\n",
    "select * from default_schema.LATEST_FLOOD_WARNINGS;"
   ]
  },
  {
   "cell_type": "markdown",
   "id": "b2e977de-35d6-4f13-8194-663722b38af1",
   "metadata": {
    "collapsed": false,
    "name": "h_flood_alerts"
   },
   "source": [
    "### Viewing Active Flood Alerts\n",
    "Below is an example of Pydeck visualising all current flood alerts"
   ]
  },
  {
   "cell_type": "code",
   "execution_count": null,
   "id": "4f90fb0b-86e6-46b3-894b-2117f4a5af41",
   "metadata": {
    "codeCollapsed": true,
    "collapsed": false,
    "language": "python",
    "name": "warnings"
   },
   "outputs": [],
   "source": [
    "\n",
    "tooltip = {\n",
    "   \"html\": \"\"\" \n",
    "   <br> <b>River or Sea: </b> {River or Sea} \n",
    "   <br> <b>Description: </b> {DESCRIPTION}\n",
    "   <br> <b>Area Name: </b> {is Tidal}\n",
    "   <br> <b>Message: </b> {Message}\n",
    "   <br> <b>Severity Level:</b> {Severity Level}\n",
    "   <br> <b>Time Raised:</b> {Time Raised}\n",
    "   \n",
    "   \"\"\",\n",
    "   \"style\": {\n",
    "       \"width\":\"50%\",\n",
    "        \"backgroundColor\": \"steelblue\",\n",
    "        \"color\": \"white\",\n",
    "       \"text-wrap\": \"balance\"\n",
    "   }\n",
    "}\n",
    "\n",
    "\n",
    "\n",
    "import pydeck as pdk\n",
    "import json\n",
    "\n",
    "\n",
    "data = session.table('DEFAULT_SCHEMA.LATEST_FLOOD_WARNINGS')\n",
    "data = data.filter(col('VALID')==1)\n",
    "data = data.with_column('GEOGRAPHY',to_geography('GEOGRAPHY'))\n",
    "\n",
    "\n",
    "data = polygon(data)\n",
    "\n",
    "\n",
    "\n",
    "center = data.select('LAT','LON')\n",
    "\n",
    "\n",
    "LAT = center.select('LAT').to_pandas().LAT.iloc[0]\n",
    "LON = center.select('LON').to_pandas().LON.iloc[0]\n",
    "\n",
    "\n",
    "\n",
    "datapd = data.to_pandas()\n",
    "datapd[\"POLYGON\"] = datapd[\"POLYGON\"].apply(lambda row: json.loads(row)[\"coordinates\"])\n",
    "\n",
    "\n",
    "\n",
    "\n",
    "# Create data layer for each polygon\n",
    "data_layer = pdk.Layer(\n",
    "    \"PolygonLayer\",\n",
    "    datapd,\n",
    "    opacity=0.3,\n",
    "    get_polygon=\"POLYGON\", \n",
    "    filled=True,\n",
    "    get_fill_color=[255,159,54],\n",
    "    get_line_color=[0, 0, 0],\n",
    "    auto_highlight=True,\n",
    "    pickable=True,\n",
    ")\n",
    "\n",
    "# Set the view on the map\n",
    "view_state = pdk.ViewState(\n",
    "    longitude=LON,\n",
    "    latitude=LAT,\n",
    "    zoom=13,  # Adjust zoom if needed\n",
    "    pitch=0,\n",
    ")\n",
    "\n",
    "\n",
    "\n",
    "# Render the map with layer and tooltip\n",
    "r = pdk.Deck(\n",
    "    layers=[data_layer],\n",
    "    initial_view_state=view_state,\n",
    "    map_style=None,\n",
    "    tooltip=tooltip)\n",
    "    \n",
    "st.pydeck_chart(r, use_container_width=True)"
   ]
  }
 ],
 "metadata": {
  "kernelspec": {
   "display_name": "Streamlit Notebook",
   "name": "streamlit"
  },
  "lastEditStatus": {
   "authorEmail": "becky.oconnor@snowflake.com",
   "authorId": "4332297057182",
   "authorName": "USER",
   "lastEditTime": 1741689758154,
   "notebookId": "5tqhavtkrq473dnwubrg",
   "sessionId": "1110bd0e-36ae-41f3-a4c2-f483ed8ee99e"
  }
 },
 "nbformat": 4,
 "nbformat_minor": 5
}
