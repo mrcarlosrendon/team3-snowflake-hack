{
 "metadata": {
  "kernelspec": {
   "display_name": "Streamlit Notebook",
   "name": "streamlit"
  },
  "lastEditStatus": {
   "notebookId": "jxotm73b53czftm3ounm",
   "authorId": "6733185363997",
   "authorName": "USER",
   "authorEmail": "becky.oconnor@snowflake.com",
   "sessionId": "9223706d-0e33-460b-bb07-95ab2bce4129",
   "lastEditTime": 1742205211420
  }
 },
 "nbformat_minor": 5,
 "nbformat": 4,
 "cells": [
  {
   "cell_type": "markdown",
   "id": "3e71fe5c-90ee-4e75-974b-9037f0a25928",
   "metadata": {
    "collapsed": false,
    "name": "title"
   },
   "source": [
    "# SOLAR POWER USECASE\n",
    "\n",
    "This tutorial leverage tha analytical capabilities of snowflake to understand how efficient or not efficient roofs of buildings are based on how much of the roof is 'pitched' and at what angle the pitch is at.  We will be looking at a sub section of the buildings data which we have just added search optimisation to.  We will allow the user to search within a distance range of a postcode."
   ]
  },
  {
   "cell_type": "code",
   "execution_count": null,
   "id": "3775908f-ca36-4846-8f38-5adca39217f2",
   "metadata": {
    "codeCollapsed": false,
    "collapsed": false,
    "language": "python",
    "name": "import_libraries"
   },
   "outputs": [],
   "source": [
    "# Import python packages\n",
    "import streamlit as st\n",
    "import pandas as pd\n",
    "from snowflake.snowpark.functions import *\n",
    "from snowflake.snowpark.types import *\n",
    "import pydeck as pdk\n",
    "# We can also use Snowpark for our analyses!\n",
    "from snowflake.snowpark.context import get_active_session\n",
    "session = get_active_session()\n"
   ]
  },
  {
   "cell_type": "markdown",
   "id": "0e71577b-7a5f-4f1d-b049-27653e7d9456",
   "metadata": {
    "collapsed": false,
    "name": "search_optimisation"
   },
   "source": "# 1. Initial Data Transformation\n\nThe dataset we will be working on is using a sample set of buildings provided by Ordnance Survey.  The sample set spans over 3 areas within the United Kingdom.\n\nWe will do an initial transformation by geocoding each building to the Ordanence Survey urban extents - this will allow the user to filter each area by Urban area.  We will also fetch the UPRN (Unique Property Reference number) and assign it to each building with a spatial join. (**ST_INTERSECTS**)"
  },
  {
   "cell_type": "code",
   "execution_count": null,
   "id": "8c4dffcc-62ad-4cc5-9855-9614a1fbd899",
   "metadata": {
    "collapsed": false,
    "language": "sql",
    "name": "data_from_internal_market_place"
   },
   "outputs": [],
   "source": "USE WAREHOUSE XX_LARGE_HEAVY_LIFT;\nCREATE OR REPLACE TABLE DEFAULT_SCHEMA.BUILDINGS_WITH_ROOF_SPECS AS \n\nSELECT A.*,B.UPRN FROM (\nselect A.*,B.NAME1_TEXT from ORGDATACLOUD$INTERNAL$OS_BUILDING_SAMPLE_DATA.ORDNANCE_SURVEY_SAMPLE_DATA.BUILDINGS_WITH_ROOF_SPECS A\n\nINNER JOIN\n\nURBAN_EXTENTS_FOR_CITIES_TOWNS_AND_VILLAGES__GREAT_BRITAIN_OPEN_BUILT_UP_AREAS.PRS_OPEN_BUILT_UP_AREAS_SCH.PRS_OPEN_BUILT_UP_EXTENTS_TBL B\n\nON\n\nST_WITHIN(A.GEOGRAPHY,B.GEOGRAPHY) \n\nORDER BY NAME1_TEXT\n\n)A INNER JOIN \n\nUNIQUE_PROPERTY_REFERENCE_NUMBERS__GREAT_BRITAIN_OPEN_UPRN.PRS_OPEN_UPRN_SCH.PRS_OPEN_UPRN_TBL B ON \n\nST_INTERSECTS(A.GEOGRAPHY,B.GEOGRAPHY)\n\n\n\n\n;\n\nALTER WAREHOUSE XX_LARGE_HEAVY_LIFT SUSPEND;\n\nUSE WAREHOUSE DEFAULT_WH;"
  },
  {
   "cell_type": "markdown",
   "id": "f8c211db-2d2e-46b7-adb3-960ff9992640",
   "metadata": {
    "collapsed": false,
    "name": "cell1"
   },
   "source": [
    "# 2. Search Optimisation\n",
    "For quick querying of geographic fields, alter the table to add serch optimisation to the geography field"
   ]
  },
  {
   "cell_type": "markdown",
   "id": "536eb5e5-e1e8-4fa5-9be5-ed830cca0b30",
   "metadata": {
    "collapsed": false,
    "name": "search_op_heading"
   },
   "source": [
    "Finally, now we have created the table we will add search optimisation onto the Geography field"
   ]
  },
  {
   "cell_type": "code",
   "execution_count": null,
   "id": "b9861004-c9c8-4498-a68b-21f0c5c4cb95",
   "metadata": {
    "collapsed": false,
    "language": "sql",
    "name": "search_op_geography"
   },
   "outputs": [],
   "source": [
    "ALTER TABLE DEFAULT_SCHEMA.BUILDINGS_WITH_ROOF_SPECS ADD SEARCH OPTIMIZATION ON GEO(GEOGRAPHY);"
   ]
  },
  {
   "cell_type": "markdown",
   "id": "cefe1655-b999-4bbb-b50b-5153ce95c092",
   "metadata": {
    "collapsed": false,
    "name": "solar_power_usecase"
   },
   "source": [
    "# 3.  Spatial Filter\n",
    "## Filtering a Postcode selectbox list \n",
    "\n",
    "After town, the next filtering will be based on distance of a postcode.  The places dataset provided by Ordnance survey provides a complete list of postcodes with corresponding centroids.  There are over a million postcodes - most of which is irellevant for this sample dataset.  \n",
    "\n",
    "Therefore we need to filter the postcodes which are within the extents where the sample buildings are located. \n",
    "\n",
    "You will note that **ST_WITHIN** is used to ensure only the postcodes are included that fit the relevant urban areas.  The postcode list will also include the geography details which we will then use to calculate distance\n",
    "\n",
    "In addition, we have created a postcode sector column as this will be used to join to weather data."
   ]
  },
  {
   "cell_type": "code",
   "execution_count": null,
   "id": "a7306cbe-56b1-412b-9721-58088856f3ff",
   "metadata": {
    "collapsed": false,
    "language": "sql",
    "name": "filtered_postcodes"
   },
   "outputs": [],
   "source": [
    "CREATE OR REPLACE TEMPORARY TABLE DEFAULT_SCHEMA.TBL1 AS\n",
    "\n",
    "SELECT C.GEOGRAPHY,C.NAME1_TEXT FROM (\n",
    "\n",
    "URBAN_EXTENTS_FOR_CITIES_TOWNS_AND_VILLAGES__GREAT_BRITAIN_OPEN_BUILT_UP_AREAS.PRS_OPEN_BUILT_UP_AREAS_SCH.PRS_OPEN_BUILT_UP_EXTENTS_TBL C\n",
    "\n",
    "    INNER JOIN \n",
    "\n",
    "    (SELECT DISTINCT NAME1_TEXT NAME1_TEXT FROM DEFAULT_SCHEMA.BUILDINGS_WITH_ROOF_SPECS)D \n",
    "    \n",
    "    ON C.NAME1_TEXT =D.NAME1_TEXT\n",
    "\n",
    "\n",
    ") ;\n",
    "\n",
    "CREATE OR REPLACE TEMPORARY TABLE DEFAULT_SCHEMA.TBL2 AS\n",
    "\n",
    "Select NAME1, GEOGRAPHY FROM\n",
    "POSTCODES_PLACE_NAMES_AND_ROAD_NUMBERS__GREAT_BRITAIN_OPEN_NAMES.PRS_OPEN_NAMES_SCH.PRS_OPEN_NAMES_TBL WHERE LOCAL_TYPE = 'Postcode';\n",
    "\n",
    "\n",
    "\n",
    "\n",
    "CREATE OR REPLACE TABLE DEFAULT_SCHEMA.POSTCODES AS \n",
    "\n",
    "SELECT A.NAME1,A.GEOGRAPHY, B.NAME1_TEXT, CONCAT(SPLIT(A.NAME1,' ')[0],'_',LEFT(SPLIT(A.NAME1,' ')[1],1)) PC_SECT\n",
    "\n",
    "FROM  DEFAULT_SCHEMA.TBL2 A\n",
    "\n",
    "\n",
    "    INNER JOIN \n",
    "\n",
    "    DEFAULT_SCHEMA.TBL1 B\n",
    "\n",
    "    ON ST_WITHIN(A.GEOGRAPHY,B.GEOGRAPHY);\n",
    "\n",
    "\n",
    "USE WAREHOUSE DEFAULT_WH;\n",
    "\n",
    "SELECT COUNT(*) FROM DEFAULT_SCHEMA.POSTCODES;"
   ]
  },
  {
   "cell_type": "markdown",
   "id": "a2d31402-a351-4b1e-a4eb-c61dd13af23c",
   "metadata": {
    "collapsed": false,
    "name": "h_apply_filters"
   },
   "source": [
    "Below you can seee the postcodes applied to the filter.  The user chooses the town first, then only postcodes for that town AND only where there are buildings will appear.  The distance is used for a further filter, which will only retrieve buildings with an Xm distance.  **ST_D_WITHIN** is used for this calculation "
   ]
  },
  {
   "cell_type": "code",
   "execution_count": null,
   "id": "1f22f2f8-5374-480a-a88c-019a213c8413",
   "metadata": {
    "collapsed": false,
    "language": "python",
    "name": "buildings_selct_boxes"
   },
   "outputs": [],
   "source": [
    "BUILDINGS = session.table('DEFAULT_SCHEMA.BUILDINGS_WITH_ROOF_SPECS')\n",
    "col1,col2,col3 = st.columns(3)\n",
    "\n",
    "with col1:\n",
    "    filter = BUILDINGS.select('NAME1_TEXT').distinct()\n",
    "    filter = st.selectbox('Choose Town:',filter)\n",
    "with col2:\n",
    "    postcodes = session.table('default_schema.POSTCODES').filter(col('NAME1_TEXT')==filter)\n",
    "    postcodef = st.selectbox('Postcode:',postcodes)\n",
    "with col3:\n",
    "    distance = st.number_input('Distance in M:', 20,2000,500)\n",
    "\n",
    "st.divider()\n",
    "\n",
    "selected_point = session.table('DEFAULT_SCHEMA.POSTCODES').filter(col('NAME1')==postcodef).select('GEOGRAPHY','PC_SECT')"
   ]
  },
  {
   "cell_type": "code",
   "execution_count": null,
   "id": "4b330d81-31a7-4162-989c-4f4b2bf0c343",
   "metadata": {
    "collapsed": false,
    "language": "python",
    "name": "buildings_filter"
   },
   "outputs": [],
   "source": [
    "BUILDINGS = BUILDINGS.filter(col('NAME1_TEXT')==filter)\n",
    "\n",
    "BUILDINGS = BUILDINGS.join(selected_point.with_column_renamed('GEOGRAPHY','SPOINT'),\n",
    "                           call_function('ST_DWITHIN',selected_point['GEOGRAPHY'],\n",
    "                                        BUILDINGS['GEOGRAPHY'],distance)).drop('SPOINT')\n",
    "\n",
    "st.write(BUILDINGS.limit(5))"
   ]
  },
  {
   "cell_type": "markdown",
   "id": "16df8ab2-332a-47d1-b510-59bf7964f748",
   "metadata": {
    "collapsed": false,
    "name": "solar_elevation_angle"
   },
   "source": [
    "# 4. Time Series Data\n",
    "### Dataset 2 Solar Elevation angle\n",
    "The Met Office calculate the solar elevation angle which is the angle referring to where the sun is in the sky.  This is used to capture how much energy can be consumed from potential solar panels.  You will note this data is by hour and postcode sector"
   ]
  },
  {
   "cell_type": "code",
   "execution_count": null,
   "id": "2ab6dee3-fad0-4878-86ef-1758b4627c17",
   "metadata": {
    "collapsed": false,
    "language": "sql",
    "name": "add_solar_elevation"
   },
   "outputs": [],
   "source": [
    "CREATE OR REPLACE TABLE DEFAULT_SCHEMA.SOLAR_ELEVATION AS SELECT * EXCLUDE \"Solar_elevation_angle\" ,round(\"Solar_elevation_angle\"::DECIMAL(7,3),3) \"Solar_elevation_angle\" FROM ORGDATACLOUD$INTERNAL$OS_BUILDING_SAMPLE_DATA.ORDNANCE_SURVEY_SAMPLE_DATA.SOLAR_ELEVATION;\n",
    "\n",
    "select * from DEFAULT_SCHEMA.solar_elevation limit 1000"
   ]
  },
  {
   "cell_type": "markdown",
   "id": "23eee497-4bfd-4175-999a-0ca01ba160cd",
   "metadata": {
    "collapsed": false,
    "name": "mdown_sdataframe"
   },
   "source": [
    "We will call the resulting table in a dataframe and use a data filter to allow the user to pick a specific date in the year."
   ]
  },
  {
   "cell_type": "code",
   "execution_count": null,
   "id": "b7086d09-bb0a-461b-b0e8-b66cb8114b7c",
   "metadata": {
    "codeCollapsed": false,
    "collapsed": false,
    "language": "python",
    "name": "solar_dframe"
   },
   "outputs": [],
   "source": [
    "SOLAR_ELEVATION_DF = session.table('DEFAULT_SCHEMA.SOLAR_ELEVATION')\n",
    "selected_date = st.date_input('Date:',datetime.date(2024,1, 1),datetime.date(2024,1,1),datetime.date(2024,12,31))\n",
    "\n",
    "SOLAR_ELEVATION_DF_FILTERED = SOLAR_ELEVATION_DF.filter(call_function('date',col('\"Validity_date_and_time\"'))==selected_date)"
   ]
  },
  {
   "cell_type": "markdown",
   "id": "f5714d56-ddf0-4ddd-a5ca-c420862c2653",
   "metadata": {
    "collapsed": false,
    "name": "loss_pointing"
   },
   "source": [
    "# 5. Variable Factors \n",
    "### Loss of Power due to where the roofs are pointing\n",
    "Here, we are making assumptions of how much power is lossed due to the slopey roof being aimed away from the sun.  \n",
    "\n",
    "A south facing slopey roof can generate the most energy, whilst a north facing roof generates the least energy.  Sliders are used to make the each factor dynamic."
   ]
  },
  {
   "cell_type": "code",
   "execution_count": null,
   "id": "5a6cfe97-3d39-427d-ac53-eca721a5b364",
   "metadata": {
    "collapsed": false,
    "language": "python",
    "name": "roof_direction"
   },
   "outputs": [],
   "source": [
    "with st.container():\n",
    "    south_facing = st.slider('South Facing:',0.0,1.0,1.0)\n",
    "    south_east_facing = st.slider('South East Facing:',0.0,1.0,0.90)\n",
    "    south_west_facing = st.slider('South West Facing:',0.0,1.0,0.80)\n",
    "    west_facing = st.slider('West Facing:',0.0,1.0,0.70)\n",
    "    north_east_facing = st.slider('North East Facing:',0.0,1.0,0.60)\n",
    "    north_west_facing = st.slider('North West Facing:',0.0,1.0,0.60)\n",
    "    east_facing = st.slider('East Facing:',0.0,1.0,0.30)\n",
    "    north_facing = st.slider('North Facing:',0.0,1.0,0.10)\n",
    "\n",
    "    solar_panel_angle = st.slider('Solar Panel Elevation Angle:',0,90,30)\n",
    "\n",
    "    solar_joules_per_s = 1000\n",
    "    panel_rating_W = 300\n",
    "    size = 1.89\n"
   ]
  },
  {
   "cell_type": "markdown",
   "id": "ae763343-7b48-4b70-b8ba-d5dd50106a85",
   "metadata": {
    "collapsed": false,
    "name": "h_directional_slopes"
   },
   "source": [
    "Next,we apply these factors to each of the areas that have directional slopes."
   ]
  },
  {
   "cell_type": "code",
   "execution_count": null,
   "id": "35318f59-eece-4940-ae49-f1072097c137",
   "metadata": {
    "collapsed": false,
    "language": "python",
    "name": "calculate_energy_efficiency"
   },
   "outputs": [],
   "source": [
    "BUILDINGS = BUILDINGS.with_column('DIRECT_IRRADIANCE_M2',\n",
    "                                  col('ROOFSHAPEASPECT_AREAFLAT_M2')+\n",
    "                                  col('ROOFSHAPEASPECT_AREAFACINGNORTH_M2')*north_facing +\n",
    "                                 col('ROOFSHAPEASPECT_AREAFACINGSOUTH_M2')*south_facing +\n",
    "                                 col('ROOFSHAPEASPECT_AREAFACINGEAST_M2')*east_facing +\n",
    "                                 col('ROOFSHAPEASPECT_AREAFACINGWEST_M2')*west_facing +\n",
    "                                 col('ROOFSHAPEASPECT_AREAFACINGNORTHWEST_M2')*north_east_facing +\n",
    "                                 col('ROOFSHAPEASPECT_AREAFACINGNORTHEAST_M2')*north_west_facing +\n",
    "                                 col('ROOFSHAPEASPECT_AREAFACINGSOUTHEAST_M2')*south_east_facing +\n",
    "                                 col('ROOFSHAPEASPECT_AREAFACINGSOUTHWEST_M2')*south_west_facing)"
   ]
  },
  {
   "cell_type": "markdown",
   "id": "76964475-6ca9-4085-a0e8-91c4dadfb324",
   "metadata": {
    "collapsed": false,
    "name": "h_direct_irradiance"
   },
   "source": [
    "Below is a dataframe summary, where you have:\n",
    "-   **Direct Irradiance** - the area exposed by direct sun light with sloping factors taking into account\n",
    "\n",
    "- **Total Area** - The total area of all roof tops"
   ]
  },
  {
   "cell_type": "code",
   "execution_count": null,
   "id": "f0cfa0fb-730b-4efe-87e1-df85cecd976c",
   "metadata": {
    "collapsed": false,
    "language": "python",
    "name": "summary_area"
   },
   "outputs": [],
   "source": [
    "##### GROUP BUILDINGS TO\n",
    "SOLAR_BUILDINGS_SUM = BUILDINGS.agg(sum('DIRECT_IRRADIANCE_M2').alias('DIRECT_IRRADIANCE_M2'),\n",
    "                                   sum('GEOMETRY_AREA_M2').alias('TOTAL_AREA'))\n",
    "\n",
    "st.dataframe(SOLAR_BUILDINGS_SUM)"
   ]
  },
  {
   "cell_type": "markdown",
   "id": "b2dcabab-f809-4391-8ee0-38efef8c5126",
   "metadata": {
    "collapsed": false,
    "name": "heading_join_data_together"
   },
   "source": [
    "# 6. Join Time and Spatial dataset together\n",
    "We will now join the angle of the sun from the weather data with the roof tops dataframe. We will display the results as a time based line chart.  You will notice that there no direct irradiance when it's dark."
   ]
  },
  {
   "cell_type": "code",
   "execution_count": null,
   "id": "2cf9979e-10bf-4b79-b731-6dca4e164c59",
   "metadata": {
    "collapsed": false,
    "language": "python",
    "name": "join_data_together_produce_line_chart"
   },
   "outputs": [],
   "source": [
    "SOLAR_BUILDINGS_SUM = BUILDINGS.agg(sum('DIRECT_IRRADIANCE_M2').alias('DIRECT_IRRADIANCE_M2'),\n",
    "                                   sum('GEOMETRY_AREA_M2').alias('TOTAL_AREA'))\n",
    "\n",
    "SOLAR_BUILDINGS_SUM = SOLAR_BUILDINGS_SUM.join(SOLAR_ELEVATION_DF_FILTERED.group_by('\"Validity_date_and_time\"').agg(avg('\"Solar_elevation_angle\"').alias('\"Solar_elevation_angle\"')))\n",
    "SOLAR_BUILDINGS_SUM = SOLAR_BUILDINGS_SUM.with_column('total_energy',when(col('\"Solar_elevation_angle\"')<0,0).otherwise(col('DIRECT_IRRADIANCE_M2')*cos(radians(lit(solar_panel_angle))-col('\"Solar_elevation_angle\"'))))\n",
    "\n",
    "st.line_chart(SOLAR_BUILDINGS_SUM.to_pandas(),y='TOTAL_ENERGY',x='Validity_date_and_time', color='#29B5E8')"
   ]
  },
  {
   "cell_type": "markdown",
   "id": "f79912b3-b124-473f-a875-d80fad3bb025",
   "metadata": {
    "collapsed": false,
    "name": "select_important_fields_and_display_calcs"
   },
   "source": [
    "# 7. Prepare for Streamlit\n",
    "Below, the dataframe has been engineered to support the visualisation  - such as specifying columns for tool tip purposes as ell as adding conditional colors for each building"
   ]
  },
  {
   "cell_type": "code",
   "execution_count": null,
   "id": "3dbfed1e-0d42-44fe-8860-4c32a81e4fc3",
   "metadata": {
    "collapsed": false,
    "language": "python",
    "name": "refine_dataframe_buildings"
   },
   "outputs": [],
   "source": "BUILDINGS_V = BUILDINGS.limit(2000).select('GEOGRAPHY',\n                                           'UPRN',\n                                           'THEME',\n                                           'DESCRIPTION',\n                                           col('GEOMETRY_AREA_M2').astype(StringType()).alias('GE'),\n                                           'ROOFMATERIAL_PRIMARYMATERIAL',\n                                           'ROOFMATERIAL_SOLARPANELPRESENCE',\n                                           'ROOFMATERIAL_GREENROOFPRESENCE',\n                                           'ROOFSHAPEASPECT_SHAPE',\n                                            col('ROOFSHAPEASPECT_AREAPITCHED_M2').astype(StringType()).alias('A'),\n                                            col('ROOFSHAPEASPECT_AREAFLAT_M2').astype(StringType()).alias('RF'),\n                                            col('DIRECT_IRRADIANCE_M2').astype(StringType()).alias('D'),\n                                            div0(col('D'),col('GEOMETRY_AREA_M2')).alias('EFFICIENCY_RATIO'),\n                                            when(col('EFFICIENCY_RATIO')>=0.9,[41,181,232]).when(col('EFFICIENCY_RATIO')>=0.8,[17,86,127]).otherwise([255,159,54]).alias('COLOR'),\n                                            col('COLOR')[0].alias('R'),\n                                            col('COLOR')[1].alias('G'),\n                                            col('COLOR')[2].alias('B'))"
  },
  {
   "cell_type": "markdown",
   "id": "9e0ec780-7bfe-485c-ac7a-c06a1f5d3118",
   "metadata": {
    "collapsed": false,
    "name": "head_tooltip"
   },
   "source": [
    "The tooltip is formatted with all suitable columns added - which includes styling"
   ]
  },
  {
   "cell_type": "code",
   "execution_count": null,
   "id": "bed2ad09-f5aa-462d-a016-3c59dd98f927",
   "metadata": {
    "collapsed": false,
    "language": "python",
    "name": "new_tooltip"
   },
   "outputs": [],
   "source": "tooltip = {\n   \"html\": \"\"\" \n   <br> <b>Theme:</b> {THEME} \n   <br> <b>UPRN:</b> {UPRN}\n   <br> <b>Description:</b> {DESCRIPTION}\n   <br> <b>Roof Material:</b> {ROOFMATERIAL_PRIMARYMATERIAL}\n   <br> <b>Solar Panel Presence:</b> {ROOFMATERIAL_SOLARPANELPRESENCE}\n   <br> <b>Green Proof Presence:</b> {ROOFMATERIAL_GREENROOFPRESENCE}\n   <br> <b>Roof Shape:</b> {ROOFSHAPEASPECT_SHAPE}\n   <br> <b>Geometry Area M2:</b> {GE}\n   <br> <b>Area Pitched M2:</b> {A}\n   <br> <b>Area Flat M2:</b> {RF}\n   <br> <b>Direct Irradiance M2:</b> {D}\n   <br> <b>Efficiency Ratio:</b> {EFFICIENCY_RATIO}\n   \"\"\",\n   \"style\": {\n       \"width\":\"50%\",\n        \"backgroundColor\": \"steelblue\",\n        \"color\": \"white\",\n       \"text-wrap\": \"balance\"\n   }\n}\n"
  },
  {
   "cell_type": "markdown",
   "id": "9b583ff2-47a0-4d73-b088-8343912b8b9c",
   "metadata": {
    "collapsed": false,
    "name": "h_center_point"
   },
   "source": [
    "The center point is calculated based on extracting the LAT and LON from the selected postcode"
   ]
  },
  {
   "cell_type": "code",
   "execution_count": null,
   "id": "e97d9a14-4eed-4a09-a33a-66a33af1ce37",
   "metadata": {
    "collapsed": false,
    "language": "python",
    "name": "centre_point"
   },
   "outputs": [],
   "source": [
    "centre = selected_point\n",
    "centre = centre.with_column('LON',call_function('ST_X',col('GEOGRAPHY')))\n",
    "centre = centre.with_column('LAT',call_function('ST_Y',col('GEOGRAPHY')))\n",
    "\n",
    "centrepd = centre.select('LON','LAT').to_pandas()\n",
    "LON = centrepd.LON.iloc[0]\n",
    "LAT = centrepd.LAT.iloc[0]"
   ]
  },
  {
   "cell_type": "markdown",
   "id": "d3540aa7-4266-4d08-9e2f-d23248c7ee20",
   "metadata": {
    "collapsed": false,
    "name": "example_streamlit"
   },
   "source": [
    "Finally we will build the pydeck map.  The results will depend on the previous filters applied."
   ]
  },
  {
   "cell_type": "code",
   "execution_count": null,
   "id": "484caf9e-c1c1-462d-a49d-8bcd355baf80",
   "metadata": {
    "codeCollapsed": false,
    "collapsed": false,
    "language": "python",
    "name": "example_solar_streamlit"
   },
   "outputs": [],
   "source": [
    "\n",
    "# Populate dataframe from query\n",
    "datapd = BUILDINGS_V.to_pandas()\n",
    "\n",
    "datapd[\"coordinates\"] = datapd[\"GEOGRAPHY\"].apply(lambda row: json.loads(row)[\"coordinates\"])\n",
    "\n",
    "st.write('Buildings in a town')\n",
    "\n",
    "# Create data layer - this where the geometry is likely failing - column is now called geometry to match geopandas default\n",
    "data_layer = pdk.Layer(\n",
    "    \"PolygonLayer\",\n",
    "    datapd,\n",
    "    opacity=0.8,\n",
    "    get_polygon=\"coordinates\", \n",
    "    filled=True,\n",
    "    get_fill_color=[\"R-1\",\"G-1\",\"B-1\"],\n",
    "    get_line_color=[0, 0, 0],\n",
    "    get_line_width=0.1,\n",
    "    auto_highlight=True,\n",
    "    pickable=True,\n",
    ")\n",
    "\n",
    "# Set the view on the map\n",
    "view_state = pdk.ViewState(\n",
    "    longitude=LON,\n",
    "    latitude=LAT,\n",
    "    zoom=15,  # Adjust zoom if needed\n",
    "    pitch=0,\n",
    ")\n",
    "\n",
    "\n",
    "\n",
    "# Render the map with layer and tooltip\n",
    "r = pdk.Deck(\n",
    "    layers=[data_layer],\n",
    "    initial_view_state=view_state,\n",
    "    map_style=None,\n",
    "    tooltip=tooltip)\n",
    "    \n",
    "st.pydeck_chart(r, use_container_width=True)\n",
    "\n",
    "\n"
   ]
  },
  {
   "cell_type": "markdown",
   "id": "106fe54f-2174-4132-9cde-73249b421aae",
   "metadata": {
    "collapsed": false,
    "name": "view_streamlit"
   },
   "source": [
    "# Streamlit next\n",
    "\n",
    "Please view the provided **SOLAR_ENERGY_INSIGHTS** streamlit example as a starting point for designing energy consumption analysis for potential solar powered roofs.\n",
    "\n",
    "Within projects click on Streamlit\n",
    "Select the **SOLAR_ENERGY_INSIGHTS** project\n",
    "Run the Streamlit.\n",
    "\n",
    "You will probably want to refine the calculations or add  more amendments.  There is an option to **Duplicate** the streamlit which will duplicate the app which will be in **Edit** format"
   ]
  }
 ]
}